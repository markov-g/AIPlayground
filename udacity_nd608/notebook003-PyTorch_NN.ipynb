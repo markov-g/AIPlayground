{
 "cells": [
  {
   "cell_type": "code",
   "execution_count": 1,
   "id": "aa9c66d785787af6",
   "metadata": {
    "collapsed": false,
    "ExecuteTime": {
     "end_time": "2024-03-17T03:09:00.437793Z",
     "start_time": "2024-03-17T03:08:59.007337Z"
    }
   },
   "outputs": [],
   "source": [
    "import torch\n",
    "import torch.nn as nn\n",
    "from rich import print as pr"
   ]
  },
  {
   "cell_type": "code",
   "execution_count": 2,
   "id": "c0bfe572313d8273",
   "metadata": {
    "collapsed": false,
    "ExecuteTime": {
     "end_time": "2024-03-17T03:09:05.595326Z",
     "start_time": "2024-03-17T03:09:05.580204Z"
    }
   },
   "outputs": [],
   "source": [
    "class MLP(nn.Module):\n",
    "    def __init__(self, input_size):\n",
    "        super(MLP, self).__init__()\n",
    "        self.hidden_layer = nn.Linear(input_size, 64)\n",
    "        self.output_layer = nn.Linear(64, 2)\n",
    "        self.activation = nn.ReLU()\n",
    "            \n",
    "    def forward(self, x):\n",
    "        x = self.activation(self.hidden_layer(x))\n",
    "        return self.output_layer(x)"
   ]
  },
  {
   "cell_type": "code",
   "execution_count": 9,
   "id": "373e4a1509c2a2c6",
   "metadata": {
    "ExecuteTime": {
     "end_time": "2024-02-26T03:25:10.655682Z",
     "start_time": "2024-02-26T03:25:10.642120Z"
    },
    "collapsed": false
   },
   "outputs": [
    {
     "data": {
      "text/html": [
       "<pre style=\"white-space:pre;overflow-x:auto;line-height:normal;font-family:Menlo,'DejaVu Sans Mono',consolas,'Courier New',monospace\"><span style=\"color: #800080; text-decoration-color: #800080; font-weight: bold\">MLP</span><span style=\"font-weight: bold\">(</span>\n",
       "  <span style=\"font-weight: bold\">(</span>hidden_layer<span style=\"font-weight: bold\">)</span>: <span style=\"color: #800080; text-decoration-color: #800080; font-weight: bold\">Linear</span><span style=\"font-weight: bold\">(</span><span style=\"color: #808000; text-decoration-color: #808000\">in_features</span>=<span style=\"color: #008080; text-decoration-color: #008080; font-weight: bold\">10</span>, <span style=\"color: #808000; text-decoration-color: #808000\">out_features</span>=<span style=\"color: #008080; text-decoration-color: #008080; font-weight: bold\">64</span>, <span style=\"color: #808000; text-decoration-color: #808000\">bias</span>=<span style=\"color: #00ff00; text-decoration-color: #00ff00; font-style: italic\">True</span><span style=\"font-weight: bold\">)</span>\n",
       "  <span style=\"font-weight: bold\">(</span>output_layer<span style=\"font-weight: bold\">)</span>: <span style=\"color: #800080; text-decoration-color: #800080; font-weight: bold\">Linear</span><span style=\"font-weight: bold\">(</span><span style=\"color: #808000; text-decoration-color: #808000\">in_features</span>=<span style=\"color: #008080; text-decoration-color: #008080; font-weight: bold\">64</span>, <span style=\"color: #808000; text-decoration-color: #808000\">out_features</span>=<span style=\"color: #008080; text-decoration-color: #008080; font-weight: bold\">2</span>, <span style=\"color: #808000; text-decoration-color: #808000\">bias</span>=<span style=\"color: #00ff00; text-decoration-color: #00ff00; font-style: italic\">True</span><span style=\"font-weight: bold\">)</span>\n",
       "  <span style=\"font-weight: bold\">(</span>activation<span style=\"font-weight: bold\">)</span>: <span style=\"color: #800080; text-decoration-color: #800080; font-weight: bold\">ReLU</span><span style=\"font-weight: bold\">()</span>\n",
       "<span style=\"font-weight: bold\">)</span>\n",
       "</pre>\n"
      ],
      "text/plain": [
       "\u001B[1;35mMLP\u001B[0m\u001B[1m(\u001B[0m\n",
       "  \u001B[1m(\u001B[0mhidden_layer\u001B[1m)\u001B[0m: \u001B[1;35mLinear\u001B[0m\u001B[1m(\u001B[0m\u001B[33min_features\u001B[0m=\u001B[1;36m10\u001B[0m, \u001B[33mout_features\u001B[0m=\u001B[1;36m64\u001B[0m, \u001B[33mbias\u001B[0m=\u001B[3;92mTrue\u001B[0m\u001B[1m)\u001B[0m\n",
       "  \u001B[1m(\u001B[0moutput_layer\u001B[1m)\u001B[0m: \u001B[1;35mLinear\u001B[0m\u001B[1m(\u001B[0m\u001B[33min_features\u001B[0m=\u001B[1;36m64\u001B[0m, \u001B[33mout_features\u001B[0m=\u001B[1;36m2\u001B[0m, \u001B[33mbias\u001B[0m=\u001B[3;92mTrue\u001B[0m\u001B[1m)\u001B[0m\n",
       "  \u001B[1m(\u001B[0mactivation\u001B[1m)\u001B[0m: \u001B[1;35mReLU\u001B[0m\u001B[1m(\u001B[0m\u001B[1m)\u001B[0m\n",
       "\u001B[1m)\u001B[0m\n"
      ]
     },
     "metadata": {},
     "output_type": "display_data"
    }
   ],
   "source": [
    "model = MLP(input_size=10)\n",
    "pr(model)"
   ]
  },
  {
   "cell_type": "code",
   "execution_count": 11,
   "id": "b3b13a914d5e270e",
   "metadata": {
    "ExecuteTime": {
     "end_time": "2024-02-26T03:25:18.421724Z",
     "start_time": "2024-02-26T03:25:18.379118Z"
    },
    "collapsed": false
   },
   "outputs": [
    {
     "data": {
      "text/plain": [
       "tensor([ 0.0874, -0.1984], grad_fn=<ViewBackward0>)"
      ]
     },
     "execution_count": 11,
     "metadata": {},
     "output_type": "execute_result"
    }
   ],
   "source": [
    "model.forward(torch.rand(10))"
   ]
  },
  {
   "cell_type": "code",
   "id": "881eeba9856a242c",
   "metadata": {
    "collapsed": false
   },
   "outputs": [],
   "source": []
  }
 ],
 "metadata": {
  "kernelspec": {
   "display_name": "Python 3",
   "language": "python",
   "name": "python3"
  },
  "language_info": {
   "codemirror_mode": {
    "name": "ipython",
    "version": 2
   },
   "file_extension": ".py",
   "mimetype": "text/x-python",
   "name": "python",
   "nbconvert_exporter": "python",
   "pygments_lexer": "ipython2",
   "version": "2.7.6"
  }
 },
 "nbformat": 4,
 "nbformat_minor": 5
}
