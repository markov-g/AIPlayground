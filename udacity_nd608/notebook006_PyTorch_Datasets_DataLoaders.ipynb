{
 "cells": [
  {
   "cell_type": "code",
   "execution_count": 1,
   "id": "initial_id",
   "metadata": {
    "ExecuteTime": {
     "end_time": "2024-03-02T13:57:12.629188Z",
     "start_time": "2024-03-02T13:57:11.162196Z"
    },
    "collapsed": true
   },
   "outputs": [],
   "source": [
    "from torch.utils.data import Dataset, DataLoader"
   ]
  },
  {
   "cell_type": "code",
   "execution_count": 2,
   "id": "88be9528aba25569",
   "metadata": {
    "ExecuteTime": {
     "end_time": "2024-03-02T14:00:09.187101Z",
     "start_time": "2024-03-02T14:00:09.123298Z"
    },
    "collapsed": false
   },
   "outputs": [],
   "source": [
    "# Create a toy dataset\n",
    "class NumberProductDataset(Dataset):\n",
    "    def __init__(self, data_range=(1, 10)):\n",
    "        self.numbers = list(range(data_range[0], data_range[1]))\n",
    "        \n",
    "    def __getitem__(self, index):\n",
    "        number1 = self.numbers[index]\n",
    "        number2 = self.numbers[index] + 1\n",
    "        return (number1, number2), number1 * number2\n",
    "    \n",
    "    def __len__(self):\n",
    "        return len(self.numbers)"
   ]
  },
  {
   "cell_type": "code",
   "execution_count": 4,
   "id": "e392abe287e41416",
   "metadata": {
    "ExecuteTime": {
     "end_time": "2024-03-02T14:00:35.774431Z",
     "start_time": "2024-03-02T14:00:35.762890Z"
    },
    "collapsed": false
   },
   "outputs": [],
   "source": [
    "dataset = NumberProductDataset(data_range=(0, 11))"
   ]
  },
  {
   "cell_type": "code",
   "execution_count": 5,
   "id": "336a996900ffd8",
   "metadata": {
    "ExecuteTime": {
     "end_time": "2024-03-02T14:00:52.395237Z",
     "start_time": "2024-03-02T14:00:52.383266Z"
    },
    "collapsed": false
   },
   "outputs": [
    {
     "name": "stdout",
     "output_type": "stream",
     "text": [
      "((3, 4), 12)\n"
     ]
    }
   ],
   "source": [
    "datasample = dataset[3]\n",
    "print(datasample)"
   ]
  },
  {
   "cell_type": "code",
   "execution_count": 12,
   "id": "c4bba03112f91033",
   "metadata": {
    "ExecuteTime": {
     "end_time": "2024-03-02T14:04:57.218847Z",
     "start_time": "2024-03-02T14:04:57.207616Z"
    },
    "collapsed": false
   },
   "outputs": [],
   "source": [
    "# Create a Data Loader instance\n",
    "dataloader = DataLoader(dataset, batch_size=3, shuffle=True)"
   ]
  },
  {
   "cell_type": "code",
   "execution_count": 13,
   "id": "bdb34d6ecc3894ab",
   "metadata": {
    "ExecuteTime": {
     "end_time": "2024-03-02T14:04:58.130314Z",
     "start_time": "2024-03-02T14:04:58.115082Z"
    },
    "collapsed": false
   },
   "outputs": [
    {
     "name": "stdout",
     "output_type": "stream",
     "text": [
      "[tensor([5, 9, 1]), tensor([ 6, 10,  2])] tensor([30, 90,  2])\n",
      "[tensor([ 4, 10,  8]), tensor([ 5, 11,  9])] tensor([ 20, 110,  72])\n",
      "[tensor([2, 0, 7]), tensor([3, 1, 8])] tensor([ 6,  0, 56])\n",
      "[tensor([6, 3]), tensor([7, 4])] tensor([42, 12])\n"
     ]
    }
   ],
   "source": [
    "for num_pairs, products in dataloader:\n",
    "    print(num_pairs, products)"
   ]
  },
  {
   "cell_type": "code",
   "id": "ce2c02b301d4379a",
   "metadata": {
    "collapsed": false
   },
   "outputs": [],
   "source": []
  }
 ],
 "metadata": {
  "kernelspec": {
   "display_name": "Python 3",
   "language": "python",
   "name": "python3"
  },
  "language_info": {
   "codemirror_mode": {
    "name": "ipython",
    "version": 2
   },
   "file_extension": ".py",
   "mimetype": "text/x-python",
   "name": "python",
   "nbconvert_exporter": "python",
   "pygments_lexer": "ipython2",
   "version": "2.7.6"
  }
 },
 "nbformat": 4,
 "nbformat_minor": 5
}
