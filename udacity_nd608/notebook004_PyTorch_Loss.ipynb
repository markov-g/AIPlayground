{
 "cells": [
  {
   "cell_type": "code",
   "execution_count": 1,
   "id": "initial_id",
   "metadata": {
    "collapsed": true,
    "ExecuteTime": {
     "end_time": "2024-03-17T03:10:01.340164Z",
     "start_time": "2024-03-17T03:10:00.248215Z"
    }
   },
   "outputs": [],
   "source": [
    "import torch\n",
    "import torch.nn as nn"
   ]
  },
  {
   "cell_type": "code",
   "execution_count": 2,
   "id": "eb0c3bfdc94e8c96",
   "metadata": {
    "collapsed": false,
    "ExecuteTime": {
     "end_time": "2024-03-17T03:10:02.526489Z",
     "start_time": "2024-03-17T03:10:02.476047Z"
    }
   },
   "outputs": [],
   "source": [
    "# Classification tasks: Cross-entropy loss\n",
    "loss_fn = nn.CrossEntropyLoss()"
   ]
  },
  {
   "cell_type": "code",
   "execution_count": 3,
   "id": "6ee46179a06f0c48",
   "metadata": {
    "collapsed": false,
    "ExecuteTime": {
     "end_time": "2024-03-17T03:10:32.440496Z",
     "start_time": "2024-03-17T03:10:32.421569Z"
    }
   },
   "outputs": [
    {
     "data": {
      "text/plain": "tensor([1])"
     },
     "execution_count": 3,
     "metadata": {},
     "output_type": "execute_result"
    }
   ],
   "source": [
    "# Our dataset contains a single image of a dog, where\n",
    "# cat = 0 and dog = 1 (corresponding to index 0 and 1)\n",
    "target_tensor = torch.tensor([1]) \n",
    "target_tensor"
   ]
  },
  {
   "cell_type": "code",
   "execution_count": 4,
   "id": "4d168f4dc7e80d1a",
   "metadata": {
    "collapsed": false,
    "ExecuteTime": {
     "end_time": "2024-03-17T03:10:39.326094Z",
     "start_time": "2024-03-17T03:10:39.294139Z"
    }
   },
   "outputs": [
    {
     "data": {
      "text/plain": "tensor(0.0486)"
     },
     "execution_count": 4,
     "metadata": {},
     "output_type": "execute_result"
    }
   ],
   "source": [
    "# Prediction: Most likely the image is a dog (index 1 is higher)\n",
    "# Note that the values do not sum to 1, but that's okay\n",
    "pred_tensor = torch.tensor([[2.0, 5.0]])\n",
    "loss_val = loss_fn(pred_tensor, target_tensor)\n",
    "loss_val"
   ]
  },
  {
   "cell_type": "code",
   "execution_count": 5,
   "id": "fa7389e6957f4407",
   "metadata": {
    "collapsed": false,
    "ExecuteTime": {
     "end_time": "2024-03-17T03:10:52.689750Z",
     "start_time": "2024-03-17T03:10:52.676943Z"
    }
   },
   "outputs": [],
   "source": [
    "# Regression tasks: Mean squared error loss\n",
    "loss_fn = nn.MSELoss()"
   ]
  },
  {
   "cell_type": "code",
   "execution_count": 6,
   "id": "2cfc9140df3f6e11",
   "metadata": {
    "collapsed": false,
    "ExecuteTime": {
     "end_time": "2024-03-17T03:11:03.624677Z",
     "start_time": "2024-03-17T03:11:03.588249Z"
    }
   },
   "outputs": [],
   "source": [
    "# Define the predicted and actual values\n",
    "predicted_tensor = torch.tensor([320000.0])\n",
    "actual_tensor = torch.tensor([300000.0])"
   ]
  },
  {
   "cell_type": "code",
   "execution_count": 7,
   "id": "d54e6d29217efedf",
   "metadata": {
    "collapsed": false,
    "ExecuteTime": {
     "end_time": "2024-03-17T03:11:04.019760Z",
     "start_time": "2024-03-17T03:11:04.008446Z"
    }
   },
   "outputs": [
    {
     "name": "stdout",
     "output_type": "stream",
     "text": [
      "400000000.00\n"
     ]
    }
   ],
   "source": [
    "# Calculate the loss\n",
    "loss_val = loss_fn(predicted_tensor, actual_tensor)\n",
    "print(\"{:.2f}\".format(loss_val))"
   ]
  },
  {
   "cell_type": "code",
   "id": "ee0667b32b19e049",
   "metadata": {
    "collapsed": false
   },
   "outputs": [],
   "source": []
  }
 ],
 "metadata": {
  "kernelspec": {
   "display_name": "Python 3",
   "language": "python",
   "name": "python3"
  },
  "language_info": {
   "codemirror_mode": {
    "name": "ipython",
    "version": 2
   },
   "file_extension": ".py",
   "mimetype": "text/x-python",
   "name": "python",
   "nbconvert_exporter": "python",
   "pygments_lexer": "ipython2",
   "version": "2.7.6"
  }
 },
 "nbformat": 4,
 "nbformat_minor": 5
}
