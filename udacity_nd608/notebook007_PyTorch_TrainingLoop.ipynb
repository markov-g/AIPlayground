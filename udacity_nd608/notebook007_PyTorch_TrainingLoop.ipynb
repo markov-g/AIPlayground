{
 "cells": [
  {
   "cell_type": "code",
   "execution_count": 1,
   "id": "initial_id",
   "metadata": {
    "collapsed": true,
    "ExecuteTime": {
     "end_time": "2024-03-17T03:17:59.221036Z",
     "start_time": "2024-03-17T03:17:57.700963Z"
    }
   },
   "outputs": [],
   "source": [
    "import torch\n",
    "from torch import nn\n",
    "from torch.utils.data import Dataset\n",
    "from torch.utils.data import DataLoader\n",
    "from torch.optim import Adam"
   ]
  },
  {
   "cell_type": "code",
   "execution_count": 2,
   "id": "97d10d6afffecd72",
   "metadata": {
    "collapsed": false,
    "ExecuteTime": {
     "end_time": "2024-03-17T03:17:59.226395Z",
     "start_time": "2024-03-17T03:17:59.222485Z"
    }
   },
   "outputs": [],
   "source": [
    "class MLP(nn.Module):\n",
    "    def __init__(self, input_size):\n",
    "        super(MLP, self).__init__()\n",
    "        self.hidden_layer = nn.Linear(input_size, 64)\n",
    "        self.output_layer = nn.Linear(64, 1)\n",
    "        self.activation = nn.ReLU()\n",
    "\n",
    "    def forward(self, x):\n",
    "        x = self.activation(self.hidden_layer(x))\n",
    "        return self.output_layer(x)"
   ]
  },
  {
   "cell_type": "code",
   "execution_count": 3,
   "id": "c98a529a54637be2",
   "metadata": {
    "collapsed": false,
    "ExecuteTime": {
     "end_time": "2024-03-17T03:17:59.230075Z",
     "start_time": "2024-03-17T03:17:59.227078Z"
    }
   },
   "outputs": [],
   "source": [
    "class NumberSumDataset(Dataset):\n",
    "    def __init__(self, data_range=(0, 10)):\n",
    "        self.numbers = list(range(data_range[0], data_range[1]))\n",
    "    \n",
    "    def __len__(self):\n",
    "        return len(self.numbers) ** 2\n",
    "    \n",
    "    def __getitem__(self, index):\n",
    "        nr1 = float(self.numbers[index // len(self.numbers)])\n",
    "        # print(f\"nr1: {nr1}\")\n",
    "        nr2 = float(self.numbers[index % len(self.numbers)])\n",
    "        # print(f\"nr2: {nr2}\")\n",
    "        # print(f\"len(self.numbers): {len(self.numbers)}\")\n",
    "        # print(f\"index: {index}\")\n",
    "        return torch.tensor([nr1, nr2]), torch.tensor([nr1 + nr2])"
   ]
  },
  {
   "cell_type": "code",
   "execution_count": 4,
   "id": "768663cd4c0e8b4c",
   "metadata": {
    "collapsed": false,
    "ExecuteTime": {
     "end_time": "2024-03-17T03:17:59.236637Z",
     "start_time": "2024-03-17T03:17:59.230785Z"
    }
   },
   "outputs": [
    {
     "name": "stdout",
     "output_type": "stream",
     "text": [
      "(tensor([1., 1.]), tensor([2.]))\n",
      "(tensor([1., 2.]), tensor([3.]))\n",
      "(tensor([1., 3.]), tensor([4.]))\n",
      "(tensor([1., 4.]), tensor([5.]))\n",
      "(tensor([1., 5.]), tensor([6.]))\n"
     ]
    }
   ],
   "source": [
    "dataset = NumberSumDataset(data_range=(1, 100))\n",
    "for i in range(5):\n",
    "    print(dataset[i])"
   ]
  },
  {
   "cell_type": "code",
   "execution_count": 5,
   "id": "e9959aa9cb415fb9",
   "metadata": {
    "collapsed": false,
    "ExecuteTime": {
     "end_time": "2024-03-17T03:18:01.446365Z",
     "start_time": "2024-03-17T03:17:59.238475Z"
    }
   },
   "outputs": [],
   "source": [
    "dataloader = DataLoader(dataset, batch_size=100, shuffle=True)\n",
    "model = MLP(input_size = 2)\n",
    "loss_fn = nn.MSELoss()\n",
    "optimizer = Adam(model.parameters(), lr=0.001)"
   ]
  },
  {
   "cell_type": "code",
   "execution_count": 6,
   "id": "7c0cceb7393da51d",
   "metadata": {
    "ExecuteTime": {
     "end_time": "2024-03-02T14:27:35.671298Z",
     "start_time": "2024-03-02T14:27:35.039382Z"
    },
    "collapsed": false
   },
   "outputs": [
    {
     "name": "stdout",
     "output_type": "stream",
     "text": [
      "Epoch 0: Sum of Batch Losses = 2700.63599\n",
      "Epoch 1: Sum of Batch Losses = 295.21207\n",
      "Epoch 2: Sum of Batch Losses = 30.89520\n",
      "Epoch 3: Sum of Batch Losses = 4.36074\n",
      "Epoch 4: Sum of Batch Losses = 0.05190\n",
      "Epoch 5: Sum of Batch Losses = 5.36319\n",
      "Epoch 6: Sum of Batch Losses = 0.74097\n",
      "Epoch 7: Sum of Batch Losses = 0.40672\n",
      "Epoch 8: Sum of Batch Losses = 0.09687\n",
      "Epoch 9: Sum of Batch Losses = 3.95036\n"
     ]
    }
   ],
   "source": [
    "# Train the model for 10 epochs\n",
    "for epoch in range(10):\n",
    "    loss = 0.0\n",
    "    for number_pairs, sums in dataloader: # iterate over the batches\n",
    "        predictions = model(number_pairs) # Compute model output\n",
    "        loss = loss_fn(predictions, sums) # Compute loss\n",
    "        loss.backward() # Compute gradients\n",
    "        optimizer.step() # Update model parameters\n",
    "        optimizer.zero_grad() # Reset gradients\n",
    "        \n",
    "        loss += loss.item() # Add the loss to all batches\n",
    "    print(\"Epoch {}: Sum of Batch Losses = {:.5f}\".format(epoch, loss))"
   ]
  },
  {
   "cell_type": "code",
   "execution_count": 6,
   "id": "d703bdd45105f533",
   "metadata": {
    "ExecuteTime": {
     "end_time": "2024-03-02T14:27:35.675516Z",
     "start_time": "2024-03-02T14:27:35.672221Z"
    },
    "collapsed": false
   },
   "outputs": [],
   "source": []
  }
 ],
 "metadata": {
  "kernelspec": {
   "display_name": "Python 3",
   "language": "python",
   "name": "python3"
  },
  "language_info": {
   "codemirror_mode": {
    "name": "ipython",
    "version": 2
   },
   "file_extension": ".py",
   "mimetype": "text/x-python",
   "name": "python",
   "nbconvert_exporter": "python",
   "pygments_lexer": "ipython2",
   "version": "2.7.6"
  }
 },
 "nbformat": 4,
 "nbformat_minor": 5
}
