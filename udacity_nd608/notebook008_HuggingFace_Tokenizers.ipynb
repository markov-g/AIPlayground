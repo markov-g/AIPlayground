{
 "cells": [
  {
   "cell_type": "code",
   "execution_count": 1,
   "id": "initial_id",
   "metadata": {
    "collapsed": true,
    "ExecuteTime": {
     "end_time": "2024-03-17T03:18:47.427387Z",
     "start_time": "2024-03-17T03:18:43.606432Z"
    }
   },
   "outputs": [],
   "source": [
    "from transformers import BertTokenizer"
   ]
  },
  {
   "cell_type": "code",
   "execution_count": 2,
   "id": "2402403ec67d428",
   "metadata": {
    "collapsed": false,
    "ExecuteTime": {
     "end_time": "2024-03-17T03:18:47.970710Z",
     "start_time": "2024-03-17T03:18:47.428707Z"
    }
   },
   "outputs": [],
   "source": [
    "# Initialize the tokenizer\n",
    "tokenizer = BertTokenizer.from_pretrained('bert-base-uncased')"
   ]
  },
  {
   "cell_type": "code",
   "execution_count": 3,
   "id": "5093e057f07b9946",
   "metadata": {
    "collapsed": false,
    "ExecuteTime": {
     "end_time": "2024-03-17T03:18:47.979871Z",
     "start_time": "2024-03-17T03:18:47.977144Z"
    }
   },
   "outputs": [
    {
     "name": "stdout",
     "output_type": "stream",
     "text": [
      "Vocabulary size: {30522}\n"
     ]
    }
   ],
   "source": [
    "# See how many tokens are in the vocabulary\n",
    "print(f\"Vocabulary size:\", {tokenizer.vocab_size})"
   ]
  },
  {
   "cell_type": "code",
   "execution_count": 4,
   "id": "8b2dacf4639e77d5",
   "metadata": {
    "collapsed": false,
    "ExecuteTime": {
     "end_time": "2024-03-17T03:18:47.988923Z",
     "start_time": "2024-03-17T03:18:47.981416Z"
    }
   },
   "outputs": [],
   "source": [
    "# Tokenize a sentence\n",
    "tokens = tokenizer.tokenize(\"Hello, my dog is cute\")"
   ]
  },
  {
   "cell_type": "code",
   "execution_count": 5,
   "id": "fe1d59abf0fb4871",
   "metadata": {
    "collapsed": false,
    "ExecuteTime": {
     "end_time": "2024-03-17T03:18:48.292227Z",
     "start_time": "2024-03-17T03:18:48.287109Z"
    }
   },
   "outputs": [
    {
     "name": "stdout",
     "output_type": "stream",
     "text": [
      "Tokens: ['hello', ',', 'my', 'dog', 'is', 'cute']\n"
     ]
    }
   ],
   "source": [
    "print(f\"Tokens: {tokens}\")"
   ]
  },
  {
   "cell_type": "code",
   "execution_count": 6,
   "id": "667f41358866eb55",
   "metadata": {
    "collapsed": false,
    "ExecuteTime": {
     "end_time": "2024-03-17T03:18:49.071681Z",
     "start_time": "2024-03-17T03:18:49.045051Z"
    }
   },
   "outputs": [],
   "source": [
    "# Show the token ids assigned to each token\n",
    "token_ids = tokenizer.convert_tokens_to_ids(tokens)"
   ]
  },
  {
   "cell_type": "code",
   "execution_count": 7,
   "id": "ff0f2c725f63f98",
   "metadata": {
    "collapsed": false,
    "ExecuteTime": {
     "end_time": "2024-03-17T03:18:49.709342Z",
     "start_time": "2024-03-17T03:18:49.684545Z"
    }
   },
   "outputs": [
    {
     "name": "stdout",
     "output_type": "stream",
     "text": [
      "Token IDs: [7592, 1010, 2026, 3899, 2003, 10140]\n"
     ]
    }
   ],
   "source": [
    "print(f\"Token IDs: {token_ids}\")"
   ]
  },
  {
   "cell_type": "code",
   "id": "44430c02bc0dec64",
   "metadata": {
    "collapsed": false
   },
   "outputs": [],
   "source": []
  }
 ],
 "metadata": {
  "kernelspec": {
   "display_name": "Python 3",
   "language": "python",
   "name": "python3"
  },
  "language_info": {
   "codemirror_mode": {
    "name": "ipython",
    "version": 2
   },
   "file_extension": ".py",
   "mimetype": "text/x-python",
   "name": "python",
   "nbconvert_exporter": "python",
   "pygments_lexer": "ipython2",
   "version": "2.7.6"
  }
 },
 "nbformat": 4,
 "nbformat_minor": 5
}
