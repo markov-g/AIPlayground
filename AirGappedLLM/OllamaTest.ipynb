{
 "cells": [
  {
   "cell_type": "code",
   "execution_count": 1,
   "id": "initial_id",
   "metadata": {
    "ExecuteTime": {
     "end_time": "2024-02-02T19:24:52.669240Z",
     "start_time": "2024-02-02T19:24:51.457256Z"
    },
    "collapsed": true
   },
   "outputs": [],
   "source": [
    "from langchain.callbacks.manager import CallbackManager\n",
    "from langchain.callbacks.streaming_stdout import StreamingStdOutCallbackHandler\n",
    "from langchain.llms import Ollama"
   ]
  },
  {
   "cell_type": "code",
   "execution_count": 4,
   "id": "3a4bd731ab5f69f8",
   "metadata": {
    "ExecuteTime": {
     "end_time": "2024-02-02T20:59:19.584315Z",
     "start_time": "2024-02-02T20:58:47.098384Z"
    },
    "collapsed": false
   },
   "outputs": [
    {
     "name": "stdout",
     "output_type": "stream",
     "text": [
      "The concept of artificial intelligence (AI) has been around for centuries in various forms, but its modern form began to take shape in the 1940s and 1950s. The birth of AI can be traced back to a 1956 conference called \"Dartmouth Summer Research Project on Artificial Intelligence,\" where researchers like John McCarthy, Marvin Minsky, Allen Newell, and Claude Shannon discussed the potential for machines to simulate human intelligence.\n",
      "Early developments in AI focused primarily on symbolic artificial intelligence (AI), which was based on the idea that reasoning could be reduced to manipulating symbols according to a fixed set of rules. This period saw significant milestones like the creation of the Logic Theorist by Allen Newell and Herbert A. Simon, a program that solved new theorems in first-order logic, and ELIZA, a natural language processing computer program designed by Joseph Weizenbaum.\n",
      "During the 1960s, AI research was dominated by the \"AI winter,\" which was characterized by limited funding and skepticism from researchers due to the lack of tangible success in achieving intelligent machines. However, it also saw the emergence of machine learning, with pioneers such as Frank Rosenblatt developing perceptrons, a foundational concept for neural networks that later became a crucial part of deep learning systems.\n",
      "The 1970s and 1980s witnessed renewed interest in AI, with advancements made in knowledge representation, planning, speech recognition, and expert systems. The development of Prolog (Programming in Logic) by Alain Colmerauer also helped AI researchers formulate rules and logic more efficiently.\n",
      "In the 1990s, the field saw a shift towards practical applications and commercialization of AI technologies. Techniques such as decision trees and neural networks started to show promising results for tasks like image recognition and language processing. Companies like Apple, Google, and IBM began investing in AI research and development, which further accelerated its growth.\n",
      "The 2000s marked a significant milestone with the launch of Watson, an AI system developed by IBM that competed on the television game show \"Jeopardy!\" in 2011. Around this time, deep learning techniques also began to emerge and evolve, leading to major advancements in image recognition, speech synthesis, and language translation.\n",
      "The current decade is witnessing exponential growth in AI technologies. Deep learning, specifically through convolutional neural networks (CNNs) and recurrent neural networks (RNNs), has transformed fields such as healthcare, transportation, entertainment, and manufacturing, among others. The rise of AI ethics, transparency, and governance have also become crucial discussions to ensure responsible development and use of this powerful technology.\n",
      "Overall, the history of AI is marked by numerous advancements, setbacks, and revivals. The field continues to evolve rapidly, with new technologies and techniques emerging constantly, making it an exciting and vibrant area for research and development.The concept of artificial intelligence (AI) has been around for centuries in various forms, but its modern form began to take shape in the 1940s and 1950s. The birth of AI can be traced back to a 1956 conference called \"Dartmouth Summer Research Project on Artificial Intelligence,\" where researchers like John McCarthy, Marvin Minsky, Allen Newell, and Claude Shannon discussed the potential for machines to simulate human intelligence.\n",
      "\n",
      "Early developments in AI focused primarily on symbolic artificial intelligence (AI), which was based on the idea that reasoning could be reduced to manipulating symbols according to a fixed set of rules. This period saw significant milestones like the creation of the Logic Theorist by Allen Newell and Herbert A. Simon, a program that solved new theorems in first-order logic, and ELIZA, a natural language processing computer program designed by Joseph Weizenbaum.\n",
      "\n",
      "During the 1960s, AI research was dominated by the \"AI winter,\" which was characterized by limited funding and skepticism from researchers due to the lack of tangible success in achieving intelligent machines. However, it also saw the emergence of machine learning, with pioneers such as Frank Rosenblatt developing perceptrons, a foundational concept for neural networks that later became a crucial part of deep learning systems.\n",
      "\n",
      "The 1970s and 1980s witnessed renewed interest in AI, with advancements made in knowledge representation, planning, speech recognition, and expert systems. The development of Prolog (Programming in Logic) by Alain Colmerauer also helped AI researchers formulate rules and logic more efficiently.\n",
      "\n",
      "In the 1990s, the field saw a shift towards practical applications and commercialization of AI technologies. Techniques such as decision trees and neural networks started to show promising results for tasks like image recognition and language processing. Companies like Apple, Google, and IBM began investing in AI research and development, which further accelerated its growth.\n",
      "\n",
      "The 2000s marked a significant milestone with the launch of Watson, an AI system developed by IBM that competed on the television game show \"Jeopardy!\" in 2011. Around this time, deep learning techniques also began to emerge and evolve, leading to major advancements in image recognition, speech synthesis, and language translation.\n",
      "\n",
      "The current decade is witnessing exponential growth in AI technologies. Deep learning, specifically through convolutional neural networks (CNNs) and recurrent neural networks (RNNs), has transformed fields such as healthcare, transportation, entertainment, and manufacturing, among others. The rise of AI ethics, transparency, and governance have also become crucial discussions to ensure responsible development and use of this powerful technology.\n",
      "\n",
      "Overall, the history of AI is marked by numerous advancements, setbacks, and revivals. The field continues to evolve rapidly, with new technologies and techniques emerging constantly, making it an exciting and vibrant area for research and development.\n"
     ]
    }
   ],
   "source": [
    "llm = Ollama(\n",
    "    model=\"dolphin-mistral\", callback_manager=CallbackManager([StreamingStdOutCallbackHandler()])\n",
    ")\n",
    "\n",
    "print(llm(\"Tell me about the history of AI\"))"
   ]
  },
  {
   "cell_type": "code",
   "id": "8eb0b26fa9af638f",
   "metadata": {
    "collapsed": false
   },
   "outputs": [],
   "source": []
  }
 ],
 "metadata": {
  "kernelspec": {
   "display_name": "Python 3",
   "language": "python",
   "name": "python3"
  },
  "language_info": {
   "codemirror_mode": {
    "name": "ipython",
    "version": 2
   },
   "file_extension": ".py",
   "mimetype": "text/x-python",
   "name": "python",
   "nbconvert_exporter": "python",
   "pygments_lexer": "ipython2",
   "version": "2.7.6"
  }
 },
 "nbformat": 4,
 "nbformat_minor": 5
}
