{
 "cells": [
  {
   "cell_type": "code",
   "execution_count": 1,
   "id": "initial_id",
   "metadata": {
    "ExecuteTime": {
     "end_time": "2024-02-18T04:01:04.764298Z",
     "start_time": "2024-02-18T04:01:03.852838Z"
    },
    "collapsed": true
   },
   "outputs": [],
   "source": [
    "from langchain.callbacks.manager import CallbackManager\n",
    "from langchain.callbacks.streaming_stdout import StreamingStdOutCallbackHandler\n",
    "from langchain.llms import Ollama"
   ]
  },
  {
   "cell_type": "code",
   "execution_count": 2,
   "id": "3a4bd731ab5f69f8",
   "metadata": {
    "ExecuteTime": {
     "end_time": "2024-02-18T04:01:25.751156Z",
     "start_time": "2024-02-18T04:01:04.766120Z"
    },
    "collapsed": false
   },
   "outputs": [
    {
     "name": "stdout",
     "output_type": "stream",
     "text": [
      "The"
     ]
    },
    {
     "name": "stderr",
     "output_type": "stream",
     "text": [
      "/Users/r1pp3r/.local/share/virtualenvs/AIPlayground-ITW5FRKN/lib/python3.11/site-packages/langchain_core/_api/deprecation.py:117: LangChainDeprecationWarning: The function `__call__` was deprecated in LangChain 0.1.7 and will be removed in 0.2.0. Use invoke instead.\n",
      "  warn_deprecated(\n"
     ]
    },
    {
     "name": "stdout",
     "output_type": "stream",
     "text": [
      " concept and development of Artificial Intelligence (AI) span several decades, with roots reaching back to ancient Greece and China. However, it wasn't until the 1950s that modern AI truly began taking shape. Here is a brief overview:\n",
      "1. Ancient Origins: The idea of automating human thought and action dates back to ancient Greece and ancient China. The Greek engineer Ctesibius (3rd century BC) created an automatic door, while the Chinese invented the \"Sou Suan Jing\" (The Mathematical Classic), a mathematical manual that included early examples of AI techniques like symbolic computation and algebra.\n",
      "2. 1940s: The foundations for modern computing were laid by Alan Turing's work on breaking Germany's Enigma Code during World War II, and his 1936 paper \"On Computable Numbers,\" which introduced the concept of a \"Turing machine\" — an abstract model of computation that is considered as the theoretical basis of computer science.\n",
      "3. 1950s: The term \"Artificial Intelligence\" was first coined in 1956 by John McCarthy, one of the leading figures in early AI research. He organized a two-month workshop at Dartmouth College, where researchers like Allen Newell and Herbert A. Simon laid out the basic concepts behind symbolic artificial intelligence (AI).\n",
      "4. 1960s: During this decade, AI experienced rapid growth, particularly in areas such as natural language processing, expert systems, and robotics. However, it was also marked by a period of overconfidence known as \"AI Winter,\" when the field struggled to deliver on its promises and faced significant challenges and criticism.\n",
      "5. 1970s: Despite setbacks, AI research continued, focusing particularly on heuristic search algorithms (such as A* used in pathfinding), expert systems, and machine learning. This decade also saw the development of knowledge representation languages like Lisp.\n",
      "6. 1980s: The 1980s saw a revival of interest in AI, with new techniques such as fuzzy logic, evolutionary algorithms, and neural networks emerging. IBM's Deep Blue defeated world chess champion Garry Kasparov in 1997, demonstrating the advancement of AI systems.\n",
      "7. 21st Century: Since the turn of the millennium, AI has rapidly advanced due to significant breakthroughs in machine learning algorithms like neural networks and deep learning techniques. Recent achievements include Google's AlphaGo defeating world champion Lee Sedol in the complex board game of Go and OpenAI's GPT-3 language model producing human-like text and code. Today, AI is used across many industries, from healthcare to finance, and continues to have a profound impact on society.The concept and development of Artificial Intelligence (AI) span several decades, with roots reaching back to ancient Greece and China. However, it wasn't until the 1950s that modern AI truly began taking shape. Here is a brief overview:\n",
      "\n",
      "1. Ancient Origins: The idea of automating human thought and action dates back to ancient Greece and ancient China. The Greek engineer Ctesibius (3rd century BC) created an automatic door, while the Chinese invented the \"Sou Suan Jing\" (The Mathematical Classic), a mathematical manual that included early examples of AI techniques like symbolic computation and algebra.\n",
      "\n",
      "2. 1940s: The foundations for modern computing were laid by Alan Turing's work on breaking Germany's Enigma Code during World War II, and his 1936 paper \"On Computable Numbers,\" which introduced the concept of a \"Turing machine\" — an abstract model of computation that is considered as the theoretical basis of computer science.\n",
      "\n",
      "3. 1950s: The term \"Artificial Intelligence\" was first coined in 1956 by John McCarthy, one of the leading figures in early AI research. He organized a two-month workshop at Dartmouth College, where researchers like Allen Newell and Herbert A. Simon laid out the basic concepts behind symbolic artificial intelligence (AI).\n",
      "\n",
      "4. 1960s: During this decade, AI experienced rapid growth, particularly in areas such as natural language processing, expert systems, and robotics. However, it was also marked by a period of overconfidence known as \"AI Winter,\" when the field struggled to deliver on its promises and faced significant challenges and criticism.\n",
      "\n",
      "5. 1970s: Despite setbacks, AI research continued, focusing particularly on heuristic search algorithms (such as A* used in pathfinding), expert systems, and machine learning. This decade also saw the development of knowledge representation languages like Lisp.\n",
      "\n",
      "6. 1980s: The 1980s saw a revival of interest in AI, with new techniques such as fuzzy logic, evolutionary algorithms, and neural networks emerging. IBM's Deep Blue defeated world chess champion Garry Kasparov in 1997, demonstrating the advancement of AI systems.\n",
      "\n",
      "7. 21st Century: Since the turn of the millennium, AI has rapidly advanced due to significant breakthroughs in machine learning algorithms like neural networks and deep learning techniques. Recent achievements include Google's AlphaGo defeating world champion Lee Sedol in the complex board game of Go and OpenAI's GPT-3 language model producing human-like text and code. Today, AI is used across many industries, from healthcare to finance, and continues to have a profound impact on society.\n"
     ]
    }
   ],
   "source": [
    "llm = Ollama(\n",
    "    model=\"dolphin-mistral\", callback_manager=CallbackManager([StreamingStdOutCallbackHandler()])\n",
    ")\n",
    "\n",
    "print(llm(\"Tell me about the history of AI\"))"
   ]
  },
  {
   "cell_type": "code",
   "id": "8eb0b26fa9af638f",
   "metadata": {
    "collapsed": false
   },
   "outputs": [],
   "source": []
  }
 ],
 "metadata": {
  "kernelspec": {
   "display_name": "Python 3",
   "language": "python",
   "name": "python3"
  },
  "language_info": {
   "codemirror_mode": {
    "name": "ipython",
    "version": 2
   },
   "file_extension": ".py",
   "mimetype": "text/x-python",
   "name": "python",
   "nbconvert_exporter": "python",
   "pygments_lexer": "ipython2",
   "version": "2.7.6"
  }
 },
 "nbformat": 4,
 "nbformat_minor": 5
}
