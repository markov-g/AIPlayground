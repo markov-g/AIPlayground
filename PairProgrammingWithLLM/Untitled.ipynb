{
 "cells": [
  {
   "cell_type": "code",
   "execution_count": 1,
   "outputs": [],
   "source": [
    "words = \"If there is hope it lies in the proles\".split()"
   ],
   "metadata": {
    "collapsed": false,
    "ExecuteTime": {
     "end_time": "2023-12-02T14:28:24.845855Z",
     "start_time": "2023-12-02T14:28:24.839782Z"
    }
   },
   "id": "2bd60bfce70b11c9"
  },
  {
   "cell_type": "code",
   "execution_count": 2,
   "outputs": [
    {
     "data": {
      "text/plain": "['If', 'there', 'is', 'hope', 'it', 'lies', 'in', 'the', 'proles']"
     },
     "execution_count": 2,
     "metadata": {},
     "output_type": "execute_result"
    }
   ],
   "source": [
    "words"
   ],
   "metadata": {
    "collapsed": false,
    "ExecuteTime": {
     "end_time": "2023-12-02T14:28:29.528986Z",
     "start_time": "2023-12-02T14:28:29.516711Z"
    }
   },
   "id": "9586a5bfb0ef7732"
  },
  {
   "cell_type": "code",
   "execution_count": 3,
   "outputs": [
    {
     "data": {
      "text/plain": "[2, 5, 2, 4, 2, 4, 2, 3, 6]"
     },
     "execution_count": 3,
     "metadata": {},
     "output_type": "execute_result"
    }
   ],
   "source": [
    "[len(word) for word in words]"
   ],
   "metadata": {
    "collapsed": false,
    "ExecuteTime": {
     "end_time": "2023-12-02T14:28:58.977389Z",
     "start_time": "2023-12-02T14:28:58.970789Z"
    }
   },
   "id": "4eae2da94baaf853"
  },
  {
   "cell_type": "code",
   "execution_count": 4,
   "outputs": [],
   "source": [
    "country_to_capital = { 'United Kingdom': 'London',\n",
    "                       'Brazil': 'Brazilia',\n",
    "                       'Morocco': 'Rabat',\n",
    "                       'Sweden': 'Stockholm' }"
   ],
   "metadata": {
    "collapsed": false,
    "ExecuteTime": {
     "end_time": "2023-12-02T14:34:45.165182Z",
     "start_time": "2023-12-02T14:34:45.149427Z"
    }
   },
   "id": "de0d17feb86b9c5a"
  },
  {
   "cell_type": "code",
   "execution_count": 5,
   "outputs": [],
   "source": [
    "capital_to_country = {capital: country for country, capital in country_to_capital.items()}"
   ],
   "metadata": {
    "collapsed": false,
    "ExecuteTime": {
     "end_time": "2023-12-02T14:35:57.982891Z",
     "start_time": "2023-12-02T14:35:57.974424Z"
    }
   },
   "id": "5d997c9009867da"
  },
  {
   "cell_type": "code",
   "execution_count": 6,
   "outputs": [
    {
     "data": {
      "text/plain": "{'London': 'United Kingdom',\n 'Brazilia': 'Brazil',\n 'Rabat': 'Morocco',\n 'Stockholm': 'Sweden'}"
     },
     "execution_count": 6,
     "metadata": {},
     "output_type": "execute_result"
    }
   ],
   "source": [
    "capital_to_country"
   ],
   "metadata": {
    "collapsed": false,
    "ExecuteTime": {
     "end_time": "2023-12-02T14:36:02.838141Z",
     "start_time": "2023-12-02T14:36:02.828394Z"
    }
   },
   "id": "ed11fc5ca4ccae2e"
  },
  {
   "cell_type": "code",
   "execution_count": null,
   "outputs": [],
   "source": [],
   "metadata": {
    "collapsed": false
   },
   "id": "8f02285c698d6f5c"
  }
 ],
 "metadata": {
  "kernelspec": {
   "display_name": "Python 3 (ipykernel)",
   "language": "python",
   "name": "python3"
  },
  "language_info": {
   "codemirror_mode": {
    "name": "ipython",
    "version": 3
   },
   "file_extension": ".py",
   "mimetype": "text/x-python",
   "name": "python",
   "nbconvert_exporter": "python",
   "pygments_lexer": "ipython3",
   "version": "3.11.6"
  }
 },
 "nbformat": 4,
 "nbformat_minor": 5
}
