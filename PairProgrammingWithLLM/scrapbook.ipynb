{
 "cells": [
  {
   "cell_type": "markdown",
   "id": "2a6abe730f8b1698",
   "metadata": {
    "collapsed": false,
    "jupyter": {
     "outputs_hidden": false
    }
   },
   "source": [
    "### PaLM Set-Up"
   ]
  },
  {
   "cell_type": "code",
   "execution_count": 23,
   "id": "226319ec6c6fb3c2",
   "metadata": {
    "ExecuteTime": {
     "end_time": "2023-11-21T17:04:48.423768Z",
     "start_time": "2023-11-21T17:04:48.419511Z"
    },
    "collapsed": false,
    "jupyter": {
     "outputs_hidden": false
    }
   },
   "outputs": [],
   "source": [
    "from dotenv import load_dotenv, find_dotenv\n",
    "\n",
    "def get_api_key():\n",
    "    _ = load_dotenv(find_dotenv()) # read local .env file\n",
    "    return os.getenv('GOOGLE_API_KEY')"
   ]
  },
  {
   "cell_type": "code",
   "execution_count": 24,
   "id": "f9bca4b835a8d426",
   "metadata": {
    "ExecuteTime": {
     "end_time": "2023-11-21T17:04:58.989144Z",
     "start_time": "2023-11-21T17:04:58.918669Z"
    },
    "collapsed": false,
    "jupyter": {
     "outputs_hidden": false
    }
   },
   "outputs": [],
   "source": [
    "import os\n",
    "import google.generativeai as palm\n",
    "from google.api_core import client_options as client_options_lib\n",
    "\n",
    "palm.configure(\n",
    "    api_key=get_api_key(),\n",
    "    transport=\"rest\",\n",
    "    client_options=client_options_lib.ClientOptions(\n",
    "        api_endpoint=os.getenv(\"GOOGLE_API_BASE\"),\n",
    "    )\n",
    ")"
   ]
  },
  {
   "cell_type": "code",
   "execution_count": 25,
   "id": "31f70a8cd20290bd",
   "metadata": {
    "ExecuteTime": {
     "end_time": "2023-11-21T17:05:06.264970Z",
     "start_time": "2023-11-21T17:05:05.667040Z"
    },
    "collapsed": false,
    "jupyter": {
     "outputs_hidden": false
    }
   },
   "outputs": [
    {
     "name": "stdout",
     "output_type": "stream",
     "text": [
      "name: models/chat-bison-001\n",
      "description: Chat-optimized generative language model.\n",
      "generation methods:['generateMessage', 'countMessageTokens']\n",
      "\n",
      "name: models/text-bison-001\n",
      "description: Model targeted for text generation.\n",
      "generation methods:['generateText', 'countTextTokens', 'createTunedTextModel']\n",
      "\n",
      "name: models/embedding-gecko-001\n",
      "description: Obtain a distributed representation of a text.\n",
      "generation methods:['embedText', 'countTextTokens']\n"
     ]
    }
   ],
   "source": [
    "for m in palm.list_models():\n",
    "    print(f\"name: {m.name}\")\n",
    "    print(f\"description: {m.description}\")\n",
    "    print(f\"generation methods:{m.supported_generation_methods}\\n\")"
   ]
  },
  {
   "cell_type": "code",
   "execution_count": 26,
   "id": "f69ebc009bcf776f",
   "metadata": {
    "ExecuteTime": {
     "end_time": "2023-11-21T17:05:41.618959Z",
     "start_time": "2023-11-21T17:05:41.475482Z"
    },
    "collapsed": false,
    "jupyter": {
     "outputs_hidden": false
    }
   },
   "outputs": [
    {
     "name": "stdout",
     "output_type": "stream",
     "text": [
      "[Model(name='models/text-bison-001',\n",
      "      base_model_id='',\n",
      "      version='001',\n",
      "      display_name='Text Bison',\n",
      "      description='Model targeted for text generation.',\n",
      "      input_token_limit=8196,\n",
      "      output_token_limit=1024,\n",
      "      supported_generation_methods=['generateText', 'countTextTokens', 'createTunedTextModel'],\n",
      "      temperature=0.7,\n",
      "      top_p=0.95,\n",
      "      top_k=40)]\n"
     ]
    }
   ],
   "source": [
    "models = [m for m in palm.list_models() if 'generateText' in m.supported_generation_methods]\n",
    "print(models)"
   ]
  },
  {
   "cell_type": "code",
   "execution_count": 27,
   "id": "d9b768050514bde2",
   "metadata": {
    "ExecuteTime": {
     "end_time": "2023-11-21T17:06:16.670244Z",
     "start_time": "2023-11-21T17:06:16.656414Z"
    },
    "collapsed": false,
    "jupyter": {
     "outputs_hidden": false
    }
   },
   "outputs": [
    {
     "data": {
      "text/plain": [
       "Model(name='models/text-bison-001',\n",
       "      base_model_id='',\n",
       "      version='001',\n",
       "      display_name='Text Bison',\n",
       "      description='Model targeted for text generation.',\n",
       "      input_token_limit=8196,\n",
       "      output_token_limit=1024,\n",
       "      supported_generation_methods=['generateText', 'countTextTokens', 'createTunedTextModel'],\n",
       "      temperature=0.7,\n",
       "      top_p=0.95,\n",
       "      top_k=40)"
      ]
     },
     "execution_count": 27,
     "metadata": {},
     "output_type": "execute_result"
    }
   ],
   "source": [
    "model_bison = models[0]\n",
    "model_bison"
   ]
  },
  {
   "cell_type": "code",
   "execution_count": 28,
   "id": "1df31fb891965b02",
   "metadata": {
    "ExecuteTime": {
     "end_time": "2023-11-21T17:07:13.793452Z",
     "start_time": "2023-11-21T17:07:13.787323Z"
    },
    "collapsed": false,
    "jupyter": {
     "outputs_hidden": false
    }
   },
   "outputs": [],
   "source": [
    "from google.api_core import retry\n",
    "@retry.Retry()\n",
    "def generate_text(prompt,\n",
    "                  model=model_bison,\n",
    "                  temperature=0.0):\n",
    "    return palm.generate_text(prompt=prompt,\n",
    "                              model=model,\n",
    "                              temperature=temperature)"
   ]
  },
  {
   "cell_type": "markdown",
   "id": "8aa1b78fa23ab992",
   "metadata": {
    "collapsed": false,
    "jupyter": {
     "outputs_hidden": false
    }
   },
   "source": [
    "### Add Templeting to prime PaLM\n",
    "#### Prompt template\n",
    "\n",
    "1. priming: getting the LLM ready for the type of task you'll ask it to do.\n",
    "2. question: the specific task.\n",
    "3. decorator: how to provide or format the output."
   ]
  },
  {
   "cell_type": "code",
   "execution_count": 29,
   "id": "9665d76ce390d81a",
   "metadata": {
    "ExecuteTime": {
     "end_time": "2023-11-21T17:07:51.094977Z",
     "start_time": "2023-11-21T17:07:51.089507Z"
    },
    "collapsed": false,
    "jupyter": {
     "outputs_hidden": false
    }
   },
   "outputs": [],
   "source": [
    "prompt_template = \"\"\"\n",
    "{priming}\n",
    "\n",
    "{question}\n",
    "\n",
    "{decorator}\n",
    "\n",
    "Your solution:\n",
    "\"\"\""
   ]
  },
  {
   "cell_type": "markdown",
   "id": "f289d77c5cc86945",
   "metadata": {
    "collapsed": false,
    "jupyter": {
     "outputs_hidden": false
    }
   },
   "source": [
    "### Scenario 1: QA - generate Test Cases "
   ]
  },
  {
   "cell_type": "code",
   "execution_count": 30,
   "id": "e124355be04d04e3",
   "metadata": {
    "ExecuteTime": {
     "end_time": "2023-11-21T17:09:04.747766Z",
     "start_time": "2023-11-21T17:09:04.744688Z"
    },
    "collapsed": false,
    "jupyter": {
     "outputs_hidden": false
    }
   },
   "outputs": [],
   "source": [
    "#@title Complex Code Block\n",
    "# Note: Taken from https://github.com/lmoroney/odmlbook/blob/63c0825094b2f44efc5c4d3226425a51990e73d6/BookSource/Chapter08/ios/cats_vs_dogs/CatVsDogClassifierSample/ModelDataHandler/ModelDataHandler.swift\n",
    "CODE_BLOCK = \"\"\"\n",
    "// Copyright 2019 The TensorFlow Authors. All Rights Reserved.\n",
    "//\n",
    "// Licensed under the Apache License, Version 2.0 (the \"License\");\n",
    "// you may not use this file except in compliance with the License.\n",
    "// You may obtain a copy of the License at\n",
    "//\n",
    "//    http://www.apache.org/licenses/LICENSE-2.0\n",
    "//\n",
    "// Unless required by applicable law or agreed to in writing, software\n",
    "// distributed under the License is distributed on an \"AS IS\" BASIS,\n",
    "// WITHOUT WARRANTIES OR CONDITIONS OF ANY KIND, either express or implied.\n",
    "// See the License for the specific language governing permissions and\n",
    "// limitations under the License.\n",
    "\n",
    "import CoreImage\n",
    "import TensorFlowLite\n",
    "import UIKit\n",
    "\n",
    "\n",
    "/// An inference from invoking the `Interpreter`.\n",
    "struct Inference {\n",
    "  let confidence: Float\n",
    "  let label: String\n",
    "}\n",
    "\n",
    "/// Information about a model file or labels file.\n",
    "typealias FileInfo = (name: String, extension: String)\n",
    "\n",
    "/// Information about the MobileNet model.\n",
    "enum MobileNet {\n",
    "  static let modelInfo: FileInfo = (name: \"converted_model\", extension: \"tflite\")\n",
    "}\n",
    "\n",
    "/// This class handles all data preprocessing and makes calls to run inference on a given frame\n",
    "/// by invoking the `Interpreter`. It then formats the inferences obtained and returns the top N\n",
    "/// results for a successful inference.\n",
    "class ModelDataHandler {\n",
    "\n",
    "  // MARK: - Public Properties\n",
    "\n",
    "  /// The current thread count used by the TensorFlow Lite Interpreter.\n",
    "  let threadCount: Int\n",
    "\n",
    "  let resultCount = 1\n",
    "\n",
    "  // MARK: - Model Parameters\n",
    "\n",
    "  let batchSize = 1\n",
    "  let inputChannels = 3\n",
    "  let inputWidth = 224\n",
    "  let inputHeight = 224\n",
    "\n",
    "  // MARK: - Private Properties\n",
    "\n",
    "  /// List of labels from the given labels file.\n",
    "  private var labels: [String] = [\"Cat\", \"Dog\"]\n",
    "\n",
    "  /// TensorFlow Lite `Interpreter` object for performing inference on a given model.\n",
    "  private var interpreter: Interpreter\n",
    "\n",
    "  /// Information about the alpha component in RGBA data.\n",
    "  private let alphaComponent = (baseOffset: 4, moduloRemainder: 3)\n",
    "\n",
    "  // MARK: - Initialization\n",
    "\n",
    "  /// A failable initializer for `ModelDataHandler`. A new instance is created if the model and\n",
    "  /// labels files are successfully loaded from the app's main bundle. Default `threadCount` is 1.\n",
    "  init?(modelFileInfo: FileInfo, threadCount: Int = 1) {\n",
    "    let modelFilename = modelFileInfo.name\n",
    "\n",
    "    // Construct the path to the model file.\n",
    "    guard let modelPath = Bundle.main.path(\n",
    "      forResource: modelFilename,\n",
    "      ofType: modelFileInfo.extension\n",
    "      ) else {\n",
    "        print(\"Failed to load the model file with name: \\(modelFilename).\")\n",
    "        return nil\n",
    "    }\n",
    "\n",
    "    // Specify the options for the `Interpreter`.\n",
    "    self.threadCount = threadCount\n",
    "    var options = InterpreterOptions()\n",
    "    options.threadCount = threadCount\n",
    "    do {\n",
    "      // Create the `Interpreter`.\n",
    "      interpreter = try Interpreter(modelPath: modelPath, options: options)\n",
    "    } catch let error {\n",
    "      print(\"Failed to create the interpreter with error: \\(error.localizedDescription)\")\n",
    "      return nil\n",
    "    }\n",
    "\n",
    "  }\n",
    "\n",
    "  // MARK: - Public Methods\n",
    "\n",
    "  /// Performs image preprocessing, invokes the `Interpreter`, and process the inference results.\n",
    "  func runModel(onFrame pixelBuffer: CVPixelBuffer) -> [Inference]? {\n",
    "    let sourcePixelFormat = CVPixelBufferGetPixelFormatType(pixelBuffer)\n",
    "    assert(sourcePixelFormat == kCVPixelFormatType_32ARGB ||\n",
    "      sourcePixelFormat == kCVPixelFormatType_32BGRA ||\n",
    "      sourcePixelFormat == kCVPixelFormatType_32RGBA)\n",
    "\n",
    "\n",
    "    let imageChannels = 4\n",
    "    assert(imageChannels >= inputChannels)\n",
    "\n",
    "    // Crops the image to the biggest square in the center and scales it down to model dimensions.\n",
    "    let scaledSize = CGSize(width: inputWidth, height: inputHeight)\n",
    "    guard let thumbnailPixelBuffer = pixelBuffer.centerThumbnail(ofSize: scaledSize) else {\n",
    "      return nil\n",
    "    }\n",
    "\n",
    "    let outputTensor: Tensor\n",
    "    do {\n",
    "      // Allocate memory for the model's input `Tensor`s.\n",
    "      try interpreter.allocateTensors()\n",
    "\n",
    "      // Remove the alpha component from the image buffer to get the RGB data.\n",
    "      guard let rgbData = rgbDataFromBuffer(\n",
    "        thumbnailPixelBuffer,\n",
    "        byteCount: batchSize * inputWidth * inputHeight * inputChannels\n",
    "        ) else {\n",
    "          print(\"Failed to convert the image buffer to RGB data.\")\n",
    "          return nil\n",
    "      }\n",
    "\n",
    "      // Copy the RGB data to the input `Tensor`.\n",
    "      try interpreter.copy(rgbData, toInputAt: 0)\n",
    "\n",
    "      // Run inference by invoking the `Interpreter`.\n",
    "      try interpreter.invoke()\n",
    "\n",
    "      // Get the output `Tensor` to process the inference results.\n",
    "      outputTensor = try interpreter.output(at: 0)\n",
    "    } catch let error {\n",
    "      print(\"Failed to invoke the interpreter with error: \\(error.localizedDescription)\")\n",
    "      return nil\n",
    "    }\n",
    "\n",
    "    let results = [Float32](unsafeData: outputTensor.data) ?? []\n",
    "\n",
    "    // Process the results.\n",
    "    let topNInferences = getTopN(results: results)\n",
    "\n",
    "    // Return the inference time and inference results.\n",
    "    return topNInferences\n",
    "  }\n",
    "\n",
    "  // MARK: - Private Methods\n",
    "\n",
    "  /// Returns the top N inference results sorted in descending order.\n",
    "  private func getTopN(results: [Float]) -> [Inference] {\n",
    "    // Create a zipped array of tuples [(labelIndex: Int, confidence: Float)].\n",
    "    let zippedResults = zip(labels.indices, results)\n",
    "\n",
    "    // Sort the zipped results by confidence value in descending order.\n",
    "    let sortedResults = zippedResults.sorted { $0.1 > $1.1 }.prefix(resultCount)\n",
    "\n",
    "    // Return the `Inference` results.\n",
    "    return sortedResults.map { result in Inference(confidence: result.1, label: labels[result.0]) }\n",
    "  }\n",
    "\n",
    "  /// Loads the labels from the labels file and stores them in the `labels` property.\n",
    "  private func loadLabels(fileInfo: FileInfo) {\n",
    "    let filename = fileInfo.name\n",
    "    let fileExtension = fileInfo.extension\n",
    "    guard let fileURL = Bundle.main.url(forResource: filename, withExtension: fileExtension) else {\n",
    "      fatalError(\"Labels file not found in bundle. Please add a labels file with name \" +\n",
    "        \"\\(filename).\\(fileExtension) and try again.\")\n",
    "    }\n",
    "    do {\n",
    "      let contents = try String(contentsOf: fileURL, encoding: .utf8)\n",
    "      labels = contents.components(separatedBy: .newlines)\n",
    "    } catch {\n",
    "      fatalError(\"Labels file named \\(filename).\\(fileExtension) cannot be read. Please add a \" +\n",
    "        \"valid labels file and try again.\")\n",
    "    }\n",
    "  }\n",
    "\n",
    "  /// Returns the RGB data representation of the given image buffer with the specified `byteCount`.\n",
    "  ///\n",
    "  /// - Parameters\n",
    "  ///   - buffer: The pixel buffer to convert to RGB data.\n",
    "  ///   - byteCount: The expected byte count for the RGB data calculated using the values that the\n",
    "  ///       model was trained on: `batchSize * imageWidth * imageHeight * componentsCount`.\n",
    "  ///   - isModelQuantized: Whether the model is quantized (i.e. fixed point values rather than\n",
    "  ///       floating point values).\n",
    "  /// - Returns: The RGB data representation of the image buffer or `nil` if the buffer could not be\n",
    "  ///     converted.\n",
    "  private func rgbDataFromBuffer(\n",
    "    _ buffer: CVPixelBuffer,\n",
    "    byteCount: Int\n",
    "    ) -> Data? {\n",
    "    CVPixelBufferLockBaseAddress(buffer, .readOnly)\n",
    "    defer { CVPixelBufferUnlockBaseAddress(buffer, .readOnly) }\n",
    "    guard let mutableRawPointer = CVPixelBufferGetBaseAddress(buffer) else {\n",
    "      return nil\n",
    "    }\n",
    "    let count = CVPixelBufferGetDataSize(buffer)\n",
    "    let bufferData = Data(bytesNoCopy: mutableRawPointer, count: count, deallocator: .none)\n",
    "    var rgbBytes = [Float](repeating: 0, count: byteCount)\n",
    "    var index = 0\n",
    "    for component in bufferData.enumerated() {\n",
    "      let offset = component.offset\n",
    "      let isAlphaComponent = (offset % alphaComponent.baseOffset) == alphaComponent.moduloRemainder\n",
    "      guard !isAlphaComponent else { continue }\n",
    "      rgbBytes[index] = Float(component.element) / 255.0\n",
    "      index += 1\n",
    "    }\n",
    "\n",
    "    return rgbBytes.withUnsafeBufferPointer(Data.init)\n",
    "\n",
    "  }\n",
    "}\n",
    "\n",
    "// MARK: - Extensions\n",
    "\n",
    "extension Data {\n",
    "  /// Creates a new buffer by copying the buffer pointer of the given array.\n",
    "  ///\n",
    "  /// - Warning: The given array's element type `T` must be trivial in that it can be copied bit\n",
    "  ///     for bit with no indirection or reference-counting operations; otherwise, reinterpreting\n",
    "  ///     data from the resulting buffer has undefined behavior.\n",
    "  /// - Parameter array: An array with elements of type `T`.\n",
    "  init<T>(copyingBufferOf array: [T]) {\n",
    "    self = array.withUnsafeBufferPointer(Data.init)\n",
    "  }\n",
    "}\n",
    "\n",
    "extension Array {\n",
    "  /// Creates a new array from the bytes of the given unsafe data.\n",
    "  ///\n",
    "  /// - Warning: The array's `Element` type must be trivial in that it can be copied bit for bit\n",
    "  ///     with no indirection or reference-counting operations; otherwise, copying the raw bytes in\n",
    "  ///     the `unsafeData`'s buffer to a new array returns an unsafe copy.\n",
    "  /// - Note: Returns `nil` if `unsafeData.count` is not a multiple of\n",
    "  ///     `MemoryLayout<Element>.stride`.\n",
    "  /// - Parameter unsafeData: The data containing the bytes to turn into an array.\n",
    "  init?(unsafeData: Data) {\n",
    "\n",
    "    guard unsafeData.count % MemoryLayout<Element>.stride == 0 else { return nil }\n",
    "    #if swift(>=5.0)\n",
    "    self = unsafeData.withUnsafeBytes { .init($0.bindMemory(to: Element.self)) }\n",
    "    #else\n",
    "    self = unsafeData.withUnsafeBytes {\n",
    "      .init(UnsafeBufferPointer<Element>(\n",
    "        start: $0,\n",
    "        count: unsafeData.count / MemoryLayout<Element>.stride\n",
    "      ))\n",
    "    }\n",
    "    #endif  // swift(>=5.0)\n",
    "  }\n",
    "}\n",
    "\"\"\""
   ]
  },
  {
   "cell_type": "code",
   "execution_count": 33,
   "id": "e13b383d67e76ff6",
   "metadata": {
    "ExecuteTime": {
     "end_time": "2023-11-21T17:11:52.317259Z",
     "start_time": "2023-11-21T17:11:52.310394Z"
    },
    "collapsed": false,
    "jupyter": {
     "outputs_hidden": false
    }
   },
   "outputs": [],
   "source": [
    "priming_text =  \"\"\"\n",
    "You are a developer in test and an expert in writing unit tests. \n",
    "\"\"\"\n",
    "\n",
    "question = \"\"\"\n",
    "Write unit tests for the following code block. Make sure you test all boundry conditions, different equivelance classes, and edge cases. Also include negative test cases. \n",
    "{code_block}\n",
    "\"\"\".format(code_block=CODE_BLOCK)\n",
    "\n",
    "decorator = \"\"\"\n",
    "Explain in detail what these test cases are designed to achieve. Make sure the test design includes:\n",
    "- Test case name\n",
    "- Test case description\n",
    "- Test case preconditions\n",
    "- Test case steps\n",
    "- Test case expected results\n",
    "- Test case postconditions\n",
    "Output the test design in markdown. \n",
    "Output the test cases in a format that can be run by XCTest.\n",
    "\"\"\""
   ]
  },
  {
   "cell_type": "code",
   "execution_count": 34,
   "id": "5a4f0a7a34201205",
   "metadata": {
    "ExecuteTime": {
     "end_time": "2023-11-21T17:12:05.929854Z",
     "start_time": "2023-11-21T17:11:53.080290Z"
    },
    "collapsed": false,
    "jupyter": {
     "outputs_hidden": false
    }
   },
   "outputs": [
    {
     "name": "stdout",
     "output_type": "stream",
     "text": [
      "## Test Design\n",
      "\n",
      "### Test Case 1: Test that the model can be loaded successfully\n",
      "\n",
      "**Test Case Name:** TestModelLoading\n",
      "\n",
      "**Test Case Description:** This test case verifies that the model can be loaded successfully.\n",
      "\n",
      "**Test Case Preconditions:**\n",
      "\n",
      "* The model file is located in the app's main bundle.\n",
      "\n",
      "**Test Case Steps:**\n",
      "\n",
      "1. Create a new instance of `ModelDataHandler` with the model file name.\n",
      "2. Call the `runModel(onFrame:)` method with a valid pixel buffer.\n",
      "3. Assert that the returned inference results are not nil.\n",
      "\n",
      "**Test Case Expected Results:**\n",
      "\n",
      "The returned inference results should not be nil.\n",
      "\n",
      "**Test Case Postconditions:**\n",
      "\n",
      "None.\n",
      "\n",
      "### Test Case 2: Test that the model can be run successfully\n",
      "\n",
      "**Test Case Name:** TestModelInference\n",
      "\n",
      "**Test Case Description:** This test case verifies that the model can be run successfully and that the inference results are correct.\n",
      "\n",
      "**Test Case Preconditions:**\n",
      "\n",
      "* The model has been loaded successfully.\n",
      "* The input pixel buffer is a valid image of a cat or a dog.\n",
      "\n",
      "**Test Case Steps:**\n",
      "\n",
      "1. Create a new instance of `ModelDataHandler` with the model file name.\n",
      "2. Call the `runModel(onFrame:)` method with the input pixel buffer.\n",
      "3. Assert that the returned inference results are not nil.\n",
      "4. Assert that the top inference result is for the correct label.\n",
      "\n",
      "**Test Case Expected Results:**\n",
      "\n",
      "The returned inference results should not be nil.\n",
      "The top inference result should be for the correct label.\n",
      "\n",
      "**Test Case Postconditions:**\n",
      "\n",
      "None.\n",
      "\n",
      "### Test Case 3: Test that the model is robust to input noise\n",
      "\n",
      "**Test Case Name:** TestModelRobustness\n",
      "\n",
      "**Test Case Description:** This test case verifies that the model is robust to input noise.\n",
      "\n",
      "**Test Case Preconditions:**\n",
      "\n",
      "* The model has been loaded successfully.\n",
      "* The input pixel buffer is a noisy image of a cat or a dog.\n",
      "\n",
      "**Test Case Steps:**\n",
      "\n",
      "1. Create a new instance of `ModelDataHandler` with the model file name.\n",
      "2. Add noise to the input pixel buffer.\n",
      "3. Call the `runModel(onFrame:)` method with the noisy pixel buffer.\n",
      "4. Assert that the returned inference results are not nil.\n",
      "5. Assert that the top inference result is for the correct label.\n",
      "\n",
      "**Test Case Expected Results:**\n",
      "\n",
      "The returned inference results should not be nil.\n",
      "The top inference result should be for the correct label.\n",
      "\n",
      "**Test Case Postconditions:**\n",
      "\n",
      "None.\n",
      "\n",
      "### Test Case 4: Test that the model is efficient\n",
      "\n",
      "**Test Case Name:** TestModelEfficiency\n",
      "\n",
      "**Test Case Description:** This test case verifies that the model is efficient.\n",
      "\n",
      "**Test Case Preconditions:**\n",
      "\n",
      "* The model has been loaded successfully.\n",
      "* The input pixel buffer is a valid image of a cat or a dog.\n",
      "\n",
      "**Test Case Steps:**\n",
      "\n",
      "1. Create a new instance of `ModelDataHandler` with the model file name.\n",
      "2. Call the `runModel(onFrame:)` method with the input pixel buffer.\n",
      "3. Measure the time it takes to run the model.\n",
      "\n",
      "**Test Case Expected Results:**\n",
      "\n",
      "The time it takes to run the model should be less than 1 second.\n",
      "\n",
      "**Test Case Postconditions:**\n",
      "\n",
      "None.\n",
      "\n",
      "## Test Cases in XCTest Format\n",
      "\n",
      "```\n",
      "import XCTest\n",
      "@testable import CameraApp\n",
      "\n",
      "class ModelDataHandlerTests: XCTestCase {\n",
      "\n",
      "    func testModelLoading() {\n",
      "        // Create a new instance of `ModelDataHandler` with the model file name.\n",
      "        let modelDataHandler = ModelDataHandler(modelFileInfo: MobileNet.modelInfo)\n",
      "\n",
      "        // Call the `runModel(onFrame:)` method with a valid pixel buffer.\n",
      "        let pixelBuffer = UIImage.init(named: \"cat\")!.pixelBuffer()!\n",
      "        let inferenceResults = modelDataHandler.runModel(onFrame: pixelBuffer)\n",
      "\n",
      "        // Assert that the returned inference results are not nil.\n",
      "        XCTAssertNotNil(inferenceResults)\n",
      "    }\n",
      "\n",
      "    func testModelInference() {\n",
      "        // Create a new instance of `ModelDataHandler` with the model file name.\n",
      "        let modelDataHandler = ModelDataHandler(modelFileInfo: MobileNet.modelInfo)\n",
      "\n",
      "        // Call the `runModel(onFrame:)` method with the input pixel buffer.\n",
      "        let pixelBuffer = UIImage.init(named: \"cat\")!\n"
     ]
    }
   ],
   "source": [
    "prompt = prompt_template.format(priming=priming_text,\n",
    "                                question=question,\n",
    "                                decorator=decorator)\n",
    "completion = generate_text(prompt)\n",
    "print(completion.result)"
   ]
  },
  {
   "cell_type": "markdown",
   "id": "c30195527cc473",
   "metadata": {
    "collapsed": false,
    "jupyter": {
     "outputs_hidden": false
    }
   },
   "source": [
    "### TODO:\n",
    "- Switch to chat bot style conversation. \n",
    "- Split input into multiple chunks. When priming, tell the model to only respond with an achnowledgement and wait until I've indicated that I'm done providing input.\n",
    "- Use decorator to indicate that the result should be split over multiple messages with 8000 characters limit. \n"
   ]
  },
  {
   "cell_type": "markdown",
   "id": "f7f61c9482ce6f68",
   "metadata": {
    "collapsed": false,
    "jupyter": {
     "outputs_hidden": false
    }
   },
   "source": [
    "# Scrapbook"
   ]
  },
  {
   "cell_type": "code",
   "execution_count": 2,
   "id": "454b02f3864360fb",
   "metadata": {
    "ExecuteTime": {
     "end_time": "2023-11-23T13:35:01.950809Z",
     "start_time": "2023-11-23T13:35:01.943922Z"
    },
    "collapsed": false,
    "jupyter": {
     "outputs_hidden": false
    }
   },
   "outputs": [
    {
     "name": "stdout",
     "output_type": "stream",
     "text": [
      "__main__\n"
     ]
    }
   ],
   "source": [
    "print(__name__)"
   ]
  },
  {
   "cell_type": "code",
   "execution_count": null,
   "id": "7f0b291efa4d23ed",
   "metadata": {
    "collapsed": false,
    "jupyter": {
     "outputs_hidden": false
    }
   },
   "outputs": [],
   "source": []
  }
 ],
 "metadata": {
  "kernelspec": {
   "display_name": "Python 3 (ipykernel)",
   "language": "python",
   "name": "python3"
  },
  "language_info": {
   "codemirror_mode": {
    "name": "ipython",
    "version": 3
   },
   "file_extension": ".py",
   "mimetype": "text/x-python",
   "name": "python",
   "nbconvert_exporter": "python",
   "pygments_lexer": "ipython3",
   "version": "3.11.6"
  }
 },
 "nbformat": 4,
 "nbformat_minor": 5
}
