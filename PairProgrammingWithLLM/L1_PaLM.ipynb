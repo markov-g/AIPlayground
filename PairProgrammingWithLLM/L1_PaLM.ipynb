{
 "cells": [
  {
   "cell_type": "code",
   "execution_count": 1,
   "id": "e308de0a-2fb6-47db-a9e0-508cdb3213fe",
   "metadata": {},
   "outputs": [],
   "source": [
    "from dotenv import load_dotenv, find_dotenv\n",
    "\n",
    "def get_api_key():    \n",
    "    _ = load_dotenv(find_dotenv()) # read local .env file\n",
    "    return os.getenv('GOOGLE_API_KEY')"
   ]
  },
  {
   "cell_type": "code",
   "execution_count": 2,
   "id": "e9fb5e78-1221-4073-ad52-cc1e15292044",
   "metadata": {},
   "outputs": [],
   "source": [
    "import os\n",
    "import google.generativeai as palm\n",
    "from google.api_core import client_options as client_options_lib\n",
    "\n",
    "palm.configure(\n",
    "    api_key=get_api_key(),\n",
    "    transport=\"rest\",\n",
    "    client_options=client_options_lib.ClientOptions(\n",
    "        api_endpoint=os.getenv(\"GOOGLE_API_BASE\"),\n",
    "    )\n",
    ")"
   ]
  },
  {
   "cell_type": "code",
   "execution_count": 3,
   "id": "7ce5d4e5-5c71-463c-83e6-4db01c0190fa",
   "metadata": {},
   "outputs": [
    {
     "name": "stdout",
     "output_type": "stream",
     "text": [
      "name: models/chat-bison-001\n",
      "description: Chat-optimized generative language model.\n",
      "generation methods:['generateMessage', 'countMessageTokens']\n",
      "\n",
      "name: models/text-bison-001\n",
      "description: Model targeted for text generation.\n",
      "generation methods:['generateText', 'countTextTokens', 'createTunedTextModel']\n",
      "\n",
      "name: models/text-bison-recitation-off\n",
      "description: Model targeted for text generation with recitation turned off.\n",
      "generation methods:['generateText', 'countTextTokens', 'createTunedTextModel']\n",
      "\n",
      "name: models/text-bison-safety-off\n",
      "description: Model targeted for text generation with safety turned off.\n",
      "generation methods:['generateText', 'countTextTokens', 'createTunedTextModel']\n",
      "\n",
      "name: models/text-bison-safety-recitation-off\n",
      "description: Model targeted for text generation with safety and recitation turned off.\n",
      "generation methods:['generateText', 'countTextTokens', 'createTunedTextModel']\n",
      "\n",
      "name: models/embedding-gecko-001\n",
      "description: Obtain a distributed representation of a text.\n",
      "generation methods:['embedText']\n",
      "\n",
      "name: models/embedding-gecko-002\n",
      "description: Obtain a distributed representation of a text.\n",
      "generation methods:['embedText']\n",
      "\n"
     ]
    }
   ],
   "source": [
    "for m in palm.list_models():\n",
    "    print(f\"name: {m.name}\")\n",
    "    print(f\"description: {m.description}\")\n",
    "    print(f\"generation methods:{m.supported_generation_methods}\\n\")"
   ]
  },
  {
   "cell_type": "code",
   "execution_count": 18,
   "id": "980d7d0d-fd4e-4518-b063-21403db8eb57",
   "metadata": {},
   "outputs": [
    {
     "name": "stdout",
     "output_type": "stream",
     "text": [
      "[Model(name='models/text-bison-001',\n",
      "      base_model_id='',\n",
      "      version='001',\n",
      "      display_name='Text Bison',\n",
      "      description='Model targeted for text generation.',\n",
      "      input_token_limit=8196,\n",
      "      output_token_limit=1024,\n",
      "      supported_generation_methods=['generateText', 'countTextTokens', 'createTunedTextModel'],\n",
      "      temperature=0.7,\n",
      "      top_p=0.95,\n",
      "      top_k=40), Model(name='models/text-bison-recitation-off',\n",
      "      base_model_id='',\n",
      "      version='001',\n",
      "      display_name='Text Bison Recitation Off',\n",
      "      description='Model targeted for text generation with recitation turned off.',\n",
      "      input_token_limit=8196,\n",
      "      output_token_limit=1024,\n",
      "      supported_generation_methods=['generateText', 'countTextTokens', 'createTunedTextModel'],\n",
      "      temperature=0.7,\n",
      "      top_p=0.95,\n",
      "      top_k=40), Model(name='models/text-bison-safety-off',\n",
      "      base_model_id='',\n",
      "      version='001',\n",
      "      display_name='Text Bison Safety Off',\n",
      "      description='Model targeted for text generation with safety turned off.',\n",
      "      input_token_limit=8196,\n",
      "      output_token_limit=1024,\n",
      "      supported_generation_methods=['generateText', 'countTextTokens', 'createTunedTextModel'],\n",
      "      temperature=0.7,\n",
      "      top_p=0.95,\n",
      "      top_k=40), Model(name='models/text-bison-safety-recitation-off',\n",
      "      base_model_id='',\n",
      "      version='001',\n",
      "      display_name='Text Bison Safety and Recitation Off',\n",
      "      description='Model targeted for text generation with safety and recitation turned off.',\n",
      "      input_token_limit=8196,\n",
      "      output_token_limit=1024,\n",
      "      supported_generation_methods=['generateText', 'countTextTokens', 'createTunedTextModel'],\n",
      "      temperature=0.7,\n",
      "      top_p=0.95,\n",
      "      top_k=40)]\n"
     ]
    }
   ],
   "source": [
    "models = [m for m in palm.list_models() if 'generateText' in m.supported_generation_methods]\n",
    "print(models)"
   ]
  },
  {
   "cell_type": "code",
   "execution_count": 19,
   "id": "e75e22ee-d9c4-4539-b697-71059d770c1d",
   "metadata": {},
   "outputs": [
    {
     "data": {
      "text/plain": [
       "Model(name='models/text-bison-001',\n",
       "      base_model_id='',\n",
       "      version='001',\n",
       "      display_name='Text Bison',\n",
       "      description='Model targeted for text generation.',\n",
       "      input_token_limit=8196,\n",
       "      output_token_limit=1024,\n",
       "      supported_generation_methods=['generateText', 'countTextTokens', 'createTunedTextModel'],\n",
       "      temperature=0.7,\n",
       "      top_p=0.95,\n",
       "      top_k=40)"
      ]
     },
     "execution_count": 19,
     "metadata": {},
     "output_type": "execute_result"
    }
   ],
   "source": [
    "model_bison = models[0]\n",
    "model_bison"
   ]
  },
  {
   "cell_type": "code",
   "execution_count": 20,
   "id": "1c48ffd1-4be6-444c-aac2-6934b4836db6",
   "metadata": {},
   "outputs": [],
   "source": [
    "from google.api_core import retry\n",
    "@retry.Retry()\n",
    "def generate_text(prompt,\n",
    "                  model=model_bison,\n",
    "                  temperature=0.0):\n",
    "    return palm.generate_text(prompt=prompt,\n",
    "                              model=model,\n",
    "                              temperature=temperature)"
   ]
  },
  {
   "cell_type": "code",
   "execution_count": 22,
   "id": "99605ccb-8a28-433d-9a6e-e5dca743c72f",
   "metadata": {},
   "outputs": [
    {
     "name": "stdout",
     "output_type": "stream",
     "text": [
      "To iterate across a list in Python, you can use the `for` loop. The syntax is as follows:\n",
      "\n",
      "```python\n",
      "for item in list:\n",
      "  # do something with item\n",
      "```\n",
      "\n",
      "For example, the following code prints each item in the list `my_list`:\n",
      "\n",
      "```python\n",
      "my_list = [\"a\", \"b\", \"c\"]\n",
      "\n",
      "for item in my_list:\n",
      "  print(item)\n",
      "```\n",
      "\n",
      "Output:\n",
      "\n",
      "```\n",
      "a\n",
      "b\n",
      "c\n",
      "```\n",
      "\n",
      "You can also use the `enumerate()` function to iterate over a list and get the index of each item. The syntax is as follows:\n",
      "\n",
      "```python\n",
      "for index, item in enumerate(list):\n",
      "  # do something with index and item\n",
      "```\n",
      "\n",
      "For example, the following code prints the index and value of each item in the list `my_list`:\n",
      "\n",
      "```python\n",
      "my_list = [\"a\", \"b\", \"c\"]\n",
      "\n",
      "for index, item in enumerate(my_list):\n",
      "  print(index, item)\n",
      "```\n",
      "\n",
      "Output:\n",
      "\n",
      "```\n",
      "0 a\n",
      "1 b\n",
      "2 c\n",
      "```\n"
     ]
    }
   ],
   "source": [
    "prompt = \"Show me how to iterate across a list in Python.\"\n",
    "completion = generate_text(prompt)\n",
    "print(completion.result)"
   ]
  },
  {
   "cell_type": "code",
   "execution_count": null,
   "id": "118d3b26-b145-4985-bf73-b852563391c2",
   "metadata": {},
   "outputs": [],
   "source": []
  }
 ],
 "metadata": {
  "kernelspec": {
   "display_name": "Python 3 (ipykernel)",
   "language": "python",
   "name": "python3"
  },
  "language_info": {
   "codemirror_mode": {
    "name": "ipython",
    "version": 3
   },
   "file_extension": ".py",
   "mimetype": "text/x-python",
   "name": "python",
   "nbconvert_exporter": "python",
   "pygments_lexer": "ipython3",
   "version": "3.11.5"
  }
 },
 "nbformat": 4,
 "nbformat_minor": 5
}
